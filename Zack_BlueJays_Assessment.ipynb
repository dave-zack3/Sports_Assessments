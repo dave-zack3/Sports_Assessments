{
 "cells": [
  {
   "cell_type": "markdown",
   "id": "e6c49b17",
   "metadata": {},
   "source": [
    "### 1. Predict the chance of a pitch being put in play. Please use this model to predict the chance of each pitch in the “deploy.csv” file being put in play and return a csv with your predictions. "
   ]
  },
  {
   "cell_type": "markdown",
   "id": "27c98515",
   "metadata": {},
   "source": [
    "I will start by importing the appropriate libraries."
   ]
  },
  {
   "cell_type": "code",
   "execution_count": 35,
   "id": "3067624a",
   "metadata": {},
   "outputs": [],
   "source": [
    "import numpy as np\n",
    "import pandas as pd\n",
    "import matplotlib.pyplot as plt\n",
    "import seaborn as sns\n",
    "\n",
    "from sklearn.model_selection import train_test_split\n",
    "\n",
    "from sklearn.linear_model import LogisticRegression\n",
    "from sklearn.ensemble import RandomForestClassifier\n",
    "\n",
    "from sklearn.metrics import confusion_matrix, classification_report"
   ]
  },
  {
   "cell_type": "markdown",
   "id": "d4e1d6c8",
   "metadata": {},
   "source": [
    "From there, load the training and deployment data into python. Do some quick inspection into the training data."
   ]
  },
  {
   "cell_type": "code",
   "execution_count": 2,
   "id": "c70d70cc",
   "metadata": {},
   "outputs": [],
   "source": [
    "training = pd.read_csv('training.csv')\n",
    "deploy = pd.read_csv('deploy.csv')"
   ]
  },
  {
   "cell_type": "code",
   "execution_count": 3,
   "id": "4c9b030f",
   "metadata": {},
   "outputs": [
    {
     "data": {
      "text/html": [
       "<div>\n",
       "<style scoped>\n",
       "    .dataframe tbody tr th:only-of-type {\n",
       "        vertical-align: middle;\n",
       "    }\n",
       "\n",
       "    .dataframe tbody tr th {\n",
       "        vertical-align: top;\n",
       "    }\n",
       "\n",
       "    .dataframe thead th {\n",
       "        text-align: right;\n",
       "    }\n",
       "</style>\n",
       "<table border=\"1\" class=\"dataframe\">\n",
       "  <thead>\n",
       "    <tr style=\"text-align: right;\">\n",
       "      <th></th>\n",
       "      <th>InPlay</th>\n",
       "      <th>Velo</th>\n",
       "      <th>SpinRate</th>\n",
       "      <th>HorzBreak</th>\n",
       "      <th>InducedVertBreak</th>\n",
       "    </tr>\n",
       "  </thead>\n",
       "  <tbody>\n",
       "    <tr>\n",
       "      <th>0</th>\n",
       "      <td>0</td>\n",
       "      <td>95.33</td>\n",
       "      <td>2893.0</td>\n",
       "      <td>10.68</td>\n",
       "      <td>21.33</td>\n",
       "    </tr>\n",
       "    <tr>\n",
       "      <th>1</th>\n",
       "      <td>0</td>\n",
       "      <td>94.41</td>\n",
       "      <td>2038.0</td>\n",
       "      <td>17.13</td>\n",
       "      <td>5.77</td>\n",
       "    </tr>\n",
       "    <tr>\n",
       "      <th>2</th>\n",
       "      <td>0</td>\n",
       "      <td>90.48</td>\n",
       "      <td>2183.0</td>\n",
       "      <td>6.61</td>\n",
       "      <td>15.39</td>\n",
       "    </tr>\n",
       "    <tr>\n",
       "      <th>3</th>\n",
       "      <td>0</td>\n",
       "      <td>93.04</td>\n",
       "      <td>2279.0</td>\n",
       "      <td>9.33</td>\n",
       "      <td>14.57</td>\n",
       "    </tr>\n",
       "    <tr>\n",
       "      <th>4</th>\n",
       "      <td>0</td>\n",
       "      <td>95.17</td>\n",
       "      <td>2384.0</td>\n",
       "      <td>6.99</td>\n",
       "      <td>17.62</td>\n",
       "    </tr>\n",
       "  </tbody>\n",
       "</table>\n",
       "</div>"
      ],
      "text/plain": [
       "   InPlay   Velo  SpinRate  HorzBreak  InducedVertBreak\n",
       "0       0  95.33    2893.0      10.68             21.33\n",
       "1       0  94.41    2038.0      17.13              5.77\n",
       "2       0  90.48    2183.0       6.61             15.39\n",
       "3       0  93.04    2279.0       9.33             14.57\n",
       "4       0  95.17    2384.0       6.99             17.62"
      ]
     },
     "execution_count": 3,
     "metadata": {},
     "output_type": "execute_result"
    }
   ],
   "source": [
    "training.head()"
   ]
  },
  {
   "cell_type": "code",
   "execution_count": 9,
   "id": "f5523497",
   "metadata": {},
   "outputs": [
    {
     "data": {
      "image/png": "[encoded data removed]",
      "text/plain": [
       "<Figure size 432x288 with 1 Axes>"
      ]
     },
     "metadata": {
      "needs_background": "light"
     },
     "output_type": "display_data"
    },
    {
     "data": {
      "image/png": "[encoded data removed]",
      "text/plain": [
       "<Figure size 432x288 with 1 Axes>"
      ]
     },
     "metadata": {
      "needs_background": "light"
     },
     "output_type": "display_data"
    },
    {
     "data": {
      "image/png": "[encoded data removed]",
      "text/plain": [
       "<Figure size 432x288 with 1 Axes>"
      ]
     },
     "metadata": {
      "needs_background": "light"
     },
     "output_type": "display_data"
    },
    {
     "data": {
      "image/png": "[encoded data removed]",
      "text/plain": [
       "<Figure size 432x288 with 1 Axes>"
      ]
     },
     "metadata": {
      "needs_background": "light"
     },
     "output_type": "display_data"
    },
    {
     "data": {
      "image/png": "[encoded data removed]",
      "text/plain": [
       "<Figure size 432x288 with 1 Axes>"
      ]
     },
     "metadata": {
      "needs_background": "light"
     },
     "output_type": "display_data"
    }
   ],
   "source": [
    "for key in training.keys():\n",
    "    plt.figure()\n",
    "    plt.title(f'{key} Histogram')\n",
    "    training[key].hist()"
   ]
  },
  {
   "cell_type": "code",
   "execution_count": 10,
   "id": "40d25f4c",
   "metadata": {},
   "outputs": [
    {
     "name": "stdout",
     "output_type": "stream",
     "text": [
      "<class 'pandas.core.frame.DataFrame'>\n",
      "RangeIndex: 10000 entries, 0 to 9999\n",
      "Data columns (total 5 columns):\n",
      " #   Column            Non-Null Count  Dtype  \n",
      "---  ------            --------------  -----  \n",
      " 0   InPlay            10000 non-null  int64  \n",
      " 1   Velo              10000 non-null  float64\n",
      " 2   SpinRate          9994 non-null   float64\n",
      " 3   HorzBreak         10000 non-null  float64\n",
      " 4   InducedVertBreak  10000 non-null  float64\n",
      "dtypes: float64(4), int64(1)\n",
      "memory usage: 390.8 KB\n"
     ]
    }
   ],
   "source": [
    "training.info()"
   ]
  },
  {
   "cell_type": "markdown",
   "id": "d8080113",
   "metadata": {},
   "source": [
    "The histograms of the data look fairly clean (no crazy skewed distributions) and the InPlay variable only takes on the values of 0 or 1. There are 6 null values in the SpinRate column which we will drop for simplicity."
   ]
  },
  {
   "cell_type": "code",
   "execution_count": 12,
   "id": "3dfcc586",
   "metadata": {},
   "outputs": [],
   "source": [
    "training.dropna(inplace=True)"
   ]
  },
  {
   "cell_type": "code",
   "execution_count": 13,
   "id": "006f4347",
   "metadata": {},
   "outputs": [
    {
     "name": "stdout",
     "output_type": "stream",
     "text": [
      "<class 'pandas.core.frame.DataFrame'>\n",
      "Int64Index: 9994 entries, 0 to 9999\n",
      "Data columns (total 5 columns):\n",
      " #   Column            Non-Null Count  Dtype  \n",
      "---  ------            --------------  -----  \n",
      " 0   InPlay            9994 non-null   int64  \n",
      " 1   Velo              9994 non-null   float64\n",
      " 2   SpinRate          9994 non-null   float64\n",
      " 3   HorzBreak         9994 non-null   float64\n",
      " 4   InducedVertBreak  9994 non-null   float64\n",
      "dtypes: float64(4), int64(1)\n",
      "memory usage: 468.5 KB\n"
     ]
    }
   ],
   "source": [
    "training.info()"
   ]
  },
  {
   "cell_type": "code",
   "execution_count": 15,
   "id": "da277bcf",
   "metadata": {},
   "outputs": [],
   "source": [
    "X = training.drop(columns = ['InPlay'])\n",
    "y = training['InPlay']"
   ]
  },
  {
   "cell_type": "code",
   "execution_count": 16,
   "id": "8444a6d6",
   "metadata": {},
   "outputs": [
    {
     "data": {
      "text/html": [
       "<div>\n",
       "<style scoped>\n",
       "    .dataframe tbody tr th:only-of-type {\n",
       "        vertical-align: middle;\n",
       "    }\n",
       "\n",
       "    .dataframe tbody tr th {\n",
       "        vertical-align: top;\n",
       "    }\n",
       "\n",
       "    .dataframe thead th {\n",
       "        text-align: right;\n",
       "    }\n",
       "</style>\n",
       "<table border=\"1\" class=\"dataframe\">\n",
       "  <thead>\n",
       "    <tr style=\"text-align: right;\">\n",
       "      <th></th>\n",
       "      <th>Velo</th>\n",
       "      <th>SpinRate</th>\n",
       "      <th>HorzBreak</th>\n",
       "      <th>InducedVertBreak</th>\n",
       "    </tr>\n",
       "  </thead>\n",
       "  <tbody>\n",
       "    <tr>\n",
       "      <th>0</th>\n",
       "      <td>95.33</td>\n",
       "      <td>2893.0</td>\n",
       "      <td>10.68</td>\n",
       "      <td>21.33</td>\n",
       "    </tr>\n",
       "    <tr>\n",
       "      <th>1</th>\n",
       "      <td>94.41</td>\n",
       "      <td>2038.0</td>\n",
       "      <td>17.13</td>\n",
       "      <td>5.77</td>\n",
       "    </tr>\n",
       "    <tr>\n",
       "      <th>2</th>\n",
       "      <td>90.48</td>\n",
       "      <td>2183.0</td>\n",
       "      <td>6.61</td>\n",
       "      <td>15.39</td>\n",
       "    </tr>\n",
       "    <tr>\n",
       "      <th>3</th>\n",
       "      <td>93.04</td>\n",
       "      <td>2279.0</td>\n",
       "      <td>9.33</td>\n",
       "      <td>14.57</td>\n",
       "    </tr>\n",
       "    <tr>\n",
       "      <th>4</th>\n",
       "      <td>95.17</td>\n",
       "      <td>2384.0</td>\n",
       "      <td>6.99</td>\n",
       "      <td>17.62</td>\n",
       "    </tr>\n",
       "  </tbody>\n",
       "</table>\n",
       "</div>"
      ],
      "text/plain": [
       "    Velo  SpinRate  HorzBreak  InducedVertBreak\n",
       "0  95.33    2893.0      10.68             21.33\n",
       "1  94.41    2038.0      17.13              5.77\n",
       "2  90.48    2183.0       6.61             15.39\n",
       "3  93.04    2279.0       9.33             14.57\n",
       "4  95.17    2384.0       6.99             17.62"
      ]
     },
     "execution_count": 16,
     "metadata": {},
     "output_type": "execute_result"
    }
   ],
   "source": [
    "X.head()"
   ]
  },
  {
   "cell_type": "code",
   "execution_count": 17,
   "id": "8b0c45ce",
   "metadata": {},
   "outputs": [
    {
     "data": {
      "text/plain": [
       "0    0\n",
       "1    0\n",
       "2    0\n",
       "3    0\n",
       "4    0\n",
       "Name: InPlay, dtype: int64"
      ]
     },
     "execution_count": 17,
     "metadata": {},
     "output_type": "execute_result"
    }
   ],
   "source": [
    "y.head()"
   ]
  },
  {
   "cell_type": "markdown",
   "id": "f1836448",
   "metadata": {},
   "source": [
    "Create the first model we will try which is a logistic regression."
   ]
  },
  {
   "cell_type": "code",
   "execution_count": 22,
   "id": "c182f6a6",
   "metadata": {},
   "outputs": [],
   "source": [
    "model_log = LogisticRegression(random_state = 3).fit(X,y)"
   ]
  },
  {
   "cell_type": "code",
   "execution_count": 23,
   "id": "14013861",
   "metadata": {},
   "outputs": [
    {
     "data": {
      "image/png": "[encoded data removed]",
      "text/plain": [
       "<Figure size 576x360 with 2 Axes>"
      ]
     },
     "metadata": {
      "needs_background": "light"
     },
     "output_type": "display_data"
    }
   ],
   "source": [
    "y_log = model_log.predict(X)\n",
    "\n",
    "cm_log = confusion_matrix(y,y_log)\n",
    "\n",
    "plt.figure(figsize = (8,5))\n",
    "sns.heatmap(cm_log, annot=True, fmt='.0f')\n",
    "plt.xlabel('Predicted')\n",
    "plt.ylabel('Actual')\n",
    "plt.show()"
   ]
  },
  {
   "cell_type": "markdown",
   "id": "eee2a77e",
   "metadata": {},
   "source": [
    "Interesting, the logistic regression predicted every single pitch would be not in play. Let's try a random forest classifier to see if we can make the results a bit better."
   ]
  },
  {
   "cell_type": "markdown",
   "id": "87700b22",
   "metadata": {},
   "source": [
    "For the random forest classifier we want to avoid overfitting the model on all of the training data so we will use the train, test, split functionality to split the data into a training set and a test set. We will use 70% of the data to train the model and then reserve 30% of the data to test it. "
   ]
  },
  {
   "cell_type": "code",
   "execution_count": 29,
   "id": "4ca49f12",
   "metadata": {},
   "outputs": [],
   "source": [
    "X_train, X_test, y_train, y_test = train_test_split(X, y, test_size = 0.3, random_state = 3)"
   ]
  },
  {
   "cell_type": "code",
   "execution_count": 30,
   "id": "d61b3831",
   "metadata": {},
   "outputs": [],
   "source": [
    "model_rf = RandomForestClassifier(random_state = 3).fit(X_train,y_train)"
   ]
  },
  {
   "cell_type": "code",
   "execution_count": 33,
   "id": "7892e36e",
   "metadata": {},
   "outputs": [
    {
     "data": {
      "image/png": "[encoded data removed]",
      "text/plain": [
       "<Figure size 576x360 with 2 Axes>"
      ]
     },
     "metadata": {
      "needs_background": "light"
     },
     "output_type": "display_data"
    }
   ],
   "source": [
    "y_rf_train = model_rf.predict(X_train)\n",
    "\n",
    "cm_rf_train = confusion_matrix(y_train,y_rf_train)\n",
    "\n",
    "plt.figure(figsize = (8,5))\n",
    "sns.heatmap(cm_rf_train, annot=True, fmt='.0f')\n",
    "plt.xlabel('Predicted')\n",
    "plt.ylabel('Actual')\n",
    "plt.show()"
   ]
  },
  {
   "cell_type": "markdown",
   "id": "d35c698e",
   "metadata": {},
   "source": [
    "As you can see from the above confusion matrix, the model performs perfectly on the training data, this could be a sign of overfitting. We will check the performance on the testing data to determine how accurate the overall model is (at least for the given set of data)."
   ]
  },
  {
   "cell_type": "code",
   "execution_count": 34,
   "id": "4d74e05c",
   "metadata": {},
   "outputs": [
    {
     "data": {
      "image/png": "[encoded data removed]",
      "text/plain": [
       "<Figure size 576x360 with 2 Axes>"
      ]
     },
     "metadata": {
      "needs_background": "light"
     },
     "output_type": "display_data"
    }
   ],
   "source": [
    "y_rf_test = model_rf.predict(X_test)\n",
    "\n",
    "cm_rf_test = confusion_matrix(y_test,y_rf_test)\n",
    "\n",
    "plt.figure(figsize = (8,5))\n",
    "sns.heatmap(cm_rf_test, annot=True, fmt='.0f')\n",
    "plt.xlabel('Predicted')\n",
    "plt.ylabel('Actual')\n",
    "plt.show()"
   ]
  },
  {
   "cell_type": "code",
   "execution_count": 36,
   "id": "3955b560",
   "metadata": {},
   "outputs": [
    {
     "name": "stdout",
     "output_type": "stream",
     "text": [
      "              precision    recall  f1-score   support\n",
      "\n",
      "           0       0.72      0.95      0.82      2143\n",
      "           1       0.35      0.06      0.11       856\n",
      "\n",
      "    accuracy                           0.70      2999\n",
      "   macro avg       0.53      0.51      0.46      2999\n",
      "weighted avg       0.61      0.70      0.62      2999\n",
      "\n"
     ]
    }
   ],
   "source": [
    "print(classification_report(y_test,y_rf_test))"
   ]
  },
  {
   "cell_type": "markdown",
   "id": "f9526ff5",
   "metadata": {},
   "source": [
    "The model doesn't perform all that well on the testing data meaning it was likely overfit to the training data. Let's try one more go round with the random forest classifier but set the max depth to 2 to try to prevent overfitting."
   ]
  },
  {
   "cell_type": "code",
   "execution_count": 37,
   "id": "b3e31507",
   "metadata": {},
   "outputs": [],
   "source": [
    "model_rf2 = RandomForestClassifier(max_depth = 2, random_state = 3).fit(X_train,y_train)"
   ]
  },
  {
   "cell_type": "code",
   "execution_count": 38,
   "id": "7f71ad97",
   "metadata": {},
   "outputs": [
    {
     "data": {
      "image/png": "[encoded data removed]",
      "text/plain": [
       "<Figure size 576x360 with 2 Axes>"
      ]
     },
     "metadata": {
      "needs_background": "light"
     },
     "output_type": "display_data"
    }
   ],
   "source": [
    "y_rf2_train = model_rf2.predict(X_train)\n",
    "\n",
    "cm_rf2_train = confusion_matrix(y_train,y_rf2_train)\n",
    "\n",
    "plt.figure(figsize = (8,5))\n",
    "sns.heatmap(cm_rf2_train, annot=True, fmt='.0f')\n",
    "plt.xlabel('Predicted')\n",
    "plt.ylabel('Actual')\n",
    "plt.show()"
   ]
  },
  {
   "cell_type": "markdown",
   "id": "a4b36e68",
   "metadata": {},
   "source": [
    "Changing the max depth to 2 reduces performance on the training set to that of the logisitic regression. Let's try to play with the max depth to balance overfitting. Once I reached a max depth of 20, the classifier still incorrectly classified some pitches, but overall performed very well. I'm hoping this model performs well on the testing data.\n",
    "\n",
    "- The model does not perform that well on the testing data, classifying the majority of pitches as not in play. I will change the depth to 25 and see how that works.\n",
    "- The model still doesn't perform great on the testing data but I'm not quite sure what to do from here. I know you can use hyperparameter tuning but unfortunately at this stage in my career in data science I'm not exactly sure what it does so I am uncomfortable using it in the assessment. \n",
    "- I am taking a machine learning class in my master's program next semester which should cover how to more robustly build a model to fit this type of data. \n",
    "\n",
    "- I will use the first Random Forest I created since it actually performed the best."
   ]
  },
  {
   "cell_type": "code",
   "execution_count": 50,
   "id": "9b0ea879",
   "metadata": {},
   "outputs": [],
   "source": [
    "model_rf3 = RandomForestClassifier(max_depth = 25, random_state = 3).fit(X_train,y_train)"
   ]
  },
  {
   "cell_type": "code",
   "execution_count": 51,
   "id": "fdac4ce2",
   "metadata": {},
   "outputs": [
    {
     "data": {
      "image/png": "[encoded data removed]",
      "text/plain": [
       "<Figure size 576x360 with 2 Axes>"
      ]
     },
     "metadata": {
      "needs_background": "light"
     },
     "output_type": "display_data"
    }
   ],
   "source": [
    "y_rf3_train = model_rf3.predict(X_train)\n",
    "\n",
    "cm_rf3_train = confusion_matrix(y_train,y_rf3_train)\n",
    "\n",
    "plt.figure(figsize = (8,5))\n",
    "sns.heatmap(cm_rf3_train, annot=True, fmt='.0f')\n",
    "plt.xlabel('Predicted')\n",
    "plt.ylabel('Actual')\n",
    "plt.show()"
   ]
  },
  {
   "cell_type": "code",
   "execution_count": 53,
   "id": "8a8380b5",
   "metadata": {},
   "outputs": [
    {
     "data": {
      "image/png": "[encoded data removed]",
      "text/plain": [
       "<Figure size 576x360 with 2 Axes>"
      ]
     },
     "metadata": {
      "needs_background": "light"
     },
     "output_type": "display_data"
    }
   ],
   "source": [
    "y_rf3_test = model_rf3.predict(X_test)\n",
    "\n",
    "cm_rf3_test = confusion_matrix(y_test,y_rf3_test)\n",
    "\n",
    "plt.figure(figsize = (8,5))\n",
    "sns.heatmap(cm_rf3_test, annot=True, fmt='.0f')\n",
    "plt.xlabel('Predicted')\n",
    "plt.ylabel('Actual')\n",
    "plt.show()"
   ]
  },
  {
   "cell_type": "code",
   "execution_count": 55,
   "id": "f673fd5b",
   "metadata": {},
   "outputs": [
    {
     "name": "stdout",
     "output_type": "stream",
     "text": [
      "<class 'pandas.core.frame.DataFrame'>\n",
      "RangeIndex: 10000 entries, 0 to 9999\n",
      "Data columns (total 4 columns):\n",
      " #   Column            Non-Null Count  Dtype  \n",
      "---  ------            --------------  -----  \n",
      " 0   Velo              10000 non-null  float64\n",
      " 1   SpinRate          9987 non-null   float64\n",
      " 2   HorzBreak         10000 non-null  float64\n",
      " 3   InducedVertBreak  10000 non-null  float64\n",
      "dtypes: float64(4)\n",
      "memory usage: 312.6 KB\n"
     ]
    }
   ],
   "source": [
    "deploy.info()"
   ]
  },
  {
   "cell_type": "code",
   "execution_count": 56,
   "id": "7d57ec78",
   "metadata": {},
   "outputs": [],
   "source": [
    "deploy.dropna(inplace = True)"
   ]
  },
  {
   "cell_type": "code",
   "execution_count": 64,
   "id": "8c55a471",
   "metadata": {},
   "outputs": [],
   "source": [
    "deploy_probs = model_rf.predict_proba(deploy)\n",
    "in_play = deploy_probs[:,1]\n",
    "deploy['InPlay'] = in_play"
   ]
  },
  {
   "cell_type": "code",
   "execution_count": 65,
   "id": "c70071b0",
   "metadata": {},
   "outputs": [],
   "source": [
    "deploy.to_csv('deploy_probabilities.csv')"
   ]
  },
  {
   "cell_type": "markdown",
   "id": "12bc0d4c",
   "metadata": {},
   "source": [
    "### 2. In one paragraph, please explain your process and reasoning for any decisions you made in Question 1."
   ]
  },
  {
   "cell_type": "markdown",
   "id": "9e369fb4",
   "metadata": {},
   "source": [
    "In my code, there are snippets of my thought process and rationale as you step through, but here is a summary of the steps I took:\n",
    "- I started out by attempting to use a logistic regression since that would be the most explainable model to a starting pitcher. Unfortunately, it predicted every pitch would not end up in play.\n",
    "- From there, I went to a random forest classifier because you can still glean factor importance out of all the decision trees. The first model I created (and one I chose) performed extremely well on training data but didn't test as well. This is likely a sign of overfitting.\n",
    "- The subsequent random forest models I created by modifying the max depth all performed worse on both the training and testing data than the initial model. As I outlined in my code, I am currently unsure of how to hyperparameter tune the random forest to make it perform better. In the next semester of my master's program I am taking a machine learning foundational course that I hope will help with this issue."
   ]
  },
  {
   "cell_type": "markdown",
   "id": "cd584718",
   "metadata": {},
   "source": [
    "### 3. In one or two sentences, please describe to the pitcher how these 4 variables affect the batter’s ability to put the ball in play. You can also include one plot or table to show to the pitcher if you think it would help."
   ]
  },
  {
   "cell_type": "code",
   "execution_count": 66,
   "id": "03258c87",
   "metadata": {},
   "outputs": [
    {
     "name": "stderr",
     "output_type": "stream",
     "text": [
      "/Users/davidzack/opt/anaconda3/lib/python3.9/site-packages/seaborn/_decorators.py:36: FutureWarning: Pass the following variables as keyword args: x, y. From version 0.12, the only valid positional argument will be `data`, and passing other arguments without an explicit keyword will result in an error or misinterpretation.\n",
      "  warnings.warn(\n"
     ]
    },
    {
     "data": {
      "text/plain": [
       "<AxesSubplot:xlabel='Importance'>"
      ]
     },
     "execution_count": 66,
     "metadata": {},
     "output_type": "execute_result"
    },
    {
     "data": {
      "image/png": "[encoded data removed]",
      "text/plain": [
       "<Figure size 936x936 with 1 Axes>"
      ]
     },
     "metadata": {
      "needs_background": "light"
     },
     "output_type": "display_data"
    }
   ],
   "source": [
    "importances = model_rf.feature_importances_\n",
    "columns = X.columns\n",
    "importance_df = pd.DataFrame(importances, index = columns, columns = ['Importance']).sort_values(by = 'Importance', ascending = False)\n",
    "plt.figure(figsize=(13,13))\n",
    "sns.barplot(importance_df.Importance, importance_df.index)"
   ]
  },
  {
   "cell_type": "markdown",
   "id": "e82e40fe",
   "metadata": {},
   "source": [
    "Talking to the pitcher I would say the most important factors in determining whether or not a pitch will end up in play are induced vertical break, horizontal break, and velocity, in that order. They are all super close to each other, though, and should all be worked on in tandem. It is clear that spin rate is less important."
   ]
  },
  {
   "cell_type": "markdown",
   "id": "830da427",
   "metadata": {},
   "source": [
    "### 4. In one or two sentences, please describe what you would see as the next steps with your model and/or results if you were in the analyst role and had another week to work on the question posed by the pitcher."
   ]
  },
  {
   "cell_type": "markdown",
   "id": "eaad1cfb",
   "metadata": {},
   "source": [
    "I alluded to the next steps in my documentation of what steps I took, but the next steps I would take would be working with the R&D team to hyperparameter tune the random forest and make it more accurate. I would also further investigate how each factor listed positively or negatively impacted the chances of the ball winding up in play and report that back to the pitcher."
   ]
  }
 ],
 "metadata": {
  "kernelspec": {
   "display_name": "Python 3 (ipykernel)",
   "language": "python",
   "name": "python3"
  },
  "language_info": {
   "codemirror_mode": {
    "name": "ipython",
    "version": 3
   },
   "file_extension": ".py",
   "mimetype": "text/x-python",
   "name": "python",
   "nbconvert_exporter": "python",
   "pygments_lexer": "ipython3",
   "version": "3.9.12"
  }
 },
 "nbformat": 4,
 "nbformat_minor": 5
}
