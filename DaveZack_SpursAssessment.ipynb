{
 "cells": [
  {
   "cell_type": "markdown",
   "id": "5219f43f",
   "metadata": {},
   "source": [
    "### SQL Query for Player's Second Contract"
   ]
  },
  {
   "cell_type": "code",
   "execution_count": null,
   "id": "95c95f54",
   "metadata": {},
   "outputs": [],
   "source": [
    "SELECT ps.PlyID as player_id,\n",
    "       p.FirstName as first_name,\n",
    "       p.LastName as last_name,\n",
    "       ci.Year1Salary as salary,\n",
    "       (ci.Year1Salary / sc.SalaryCap)*100 as salary_cap_pct\n",
    "FROM nba.ContractInfo as ci\n",
    "    JOIN nba.Transactions\n",
    "        on ci.TransactionID = nba.Transactions.TransactionID\n",
    "    JOIN nba.PlayerStats as ps\n",
    "        on nba.Transactions.PlyID = ps.PlyID\n",
    "    JOIN nba.Players as p\n",
    "        on ps.PlyID = p.PlyID\n",
    "    JOIN nba.SalaryCap as sc\n",
    "        on nba.PlayerStats.Season = sc.Season\n",
    "WHERE ci.VersionNumber = max(VersionNumber) and ci.ContractType = \"Second\"\n",
    "GROUP BY player_id\n",
    "ORDER BY player_id"
   ]
  },
  {
   "cell_type": "markdown",
   "id": "0dd6b158",
   "metadata": {},
   "source": [
    "### NBA Lottery Simulation"
   ]
  },
  {
   "cell_type": "code",
   "execution_count": 1,
   "id": "e877eeed",
   "metadata": {},
   "outputs": [],
   "source": [
    "import itertools\n",
    "import random\n",
    "\n",
    "\n",
    "def create_lottery_combinations():\n",
    "    combinations = []\n",
    "    for combination in itertools.combinations(range(14),4):\n",
    "        combinations.append(combination)\n",
    "\n",
    "    random.shuffle(combinations)\n",
    "\n",
    "    lottery = {'team1': combinations[0:140],\n",
    "               'team2': combinations[140:280],\n",
    "               'team3': combinations[280:420],\n",
    "               'team4': combinations[420:545],\n",
    "               'team5': combinations[545:650],\n",
    "               'team6': combinations[650:740],\n",
    "               'team7': combinations[740:815],\n",
    "               'team8': combinations[815:875],\n",
    "               'team9': combinations[875:920],\n",
    "               'team10': combinations[920:950],\n",
    "               'team11': combinations[950:970],\n",
    "               'team12': combinations[970:985],\n",
    "               'team13': combinations[985:995],\n",
    "               'team14': combinations[995:1000],}\n",
    "    return lottery\n",
    "\n",
    "def choose_combination():\n",
    "    combinations = []\n",
    "    for combination in itertools.combinations(range(14),4):\n",
    "        combinations.append(combination)\n",
    "    \n",
    "    choice = random.choice(combinations)\n",
    "    return choice\n",
    "\n",
    "\n",
    "    \n",
    "def run_lottery(lottery_combinations):\n",
    "    draft_order = []\n",
    "    \n",
    "    while len(draft_order) < 4:\n",
    "        choice = choose_combination()\n",
    "        for key in lottery_combinations:\n",
    "            if choice in lottery_combinations[key] and key not in draft_order:\n",
    "                draft_order.append(key)\n",
    "                break\n",
    "    \n",
    "    for ii in range(1,15):\n",
    "        if ('team' + str(ii)) not in draft_order:\n",
    "            draft_order.append('team' + str(ii))\n",
    "    \n",
    "    return draft_order    "
   ]
  },
  {
   "cell_type": "code",
   "execution_count": 2,
   "id": "c28fc066",
   "metadata": {},
   "outputs": [
    {
     "name": "stdout",
     "output_type": "stream",
     "text": [
      "['team6', 'team12', 'team3', 'team5', 'team1', 'team2', 'team4', 'team7', 'team8', 'team9', 'team10', 'team11', 'team13', 'team14']\n"
     ]
    }
   ],
   "source": [
    "lottery = create_lottery_combinations()\n",
    "draft_order = run_lottery(lottery)\n",
    "print(draft_order)"
   ]
  },
  {
   "cell_type": "markdown",
   "id": "7ff56b07",
   "metadata": {},
   "source": [
    "### General Manager of the Washington Wizards\n",
    "\n",
    "As GM of the Wizards, it would be a tough pill to swallow, but I believe the first move to make is to try to trade Bradley Beal for some draft capital. The Wizards have been stuck in NBA \"purgatory\" (out of the lottery but out of contention) for seemingly forever and I think it is finally the time to completely dedicate to a rebuild in '23-'24. The best method of doing that for this franchise is to build through the draft because it hasn't been an overly popular destination for free agents. If you could move Beal for a first round pick it would best position the franchise to entire the lottery at the end of the '23-'24 season and add an additional first round asset. All that said, I would not move Beal for anything less than a first round pick because that would defeat the purpose of moving him in the first place. \n",
    "\n",
    "My second move would also be difficult, but unless a sign-and-trade was possible, I would let Kyle Kuzma walk in free agency assuming he does not pick up his player option. He has proven to be a valuable asset but I don't really think he fits the timeline of this franchise and would only hurt your lottery odds.\n",
    "\n",
    "Next, I would wait until the trade deadline next year and move Kristaps Porzingis to a likely contender since he is on an expiring contract and will likely be some sort of a commodity. \n",
    "\n",
    "As I hope you can tell, my plan would be to gather as much draft capital as possible, enter a rebuild, and attempt to build through the draft."
   ]
  }
 ],
 "metadata": {
  "kernelspec": {
   "display_name": "Python 3 (ipykernel)",
   "language": "python",
   "name": "python3"
  },
  "language_info": {
   "codemirror_mode": {
    "name": "ipython",
    "version": 3
   },
   "file_extension": ".py",
   "mimetype": "text/x-python",
   "name": "python",
   "nbconvert_exporter": "python",
   "pygments_lexer": "ipython3",
   "version": "3.10.8"
  }
 },
 "nbformat": 4,
 "nbformat_minor": 5
}
