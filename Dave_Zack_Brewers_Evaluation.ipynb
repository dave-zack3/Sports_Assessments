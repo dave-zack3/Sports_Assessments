{
 "cells": [
  {
   "cell_type": "markdown",
   "id": "a9cd1284",
   "metadata": {},
   "source": [
    "### 1. Assume that in every inning a starting pitcher pitches he’s projected to give up 0 runs 60% of the time and 1 run 40% of the time. Assume similarly that a relief pitcher is projected to give up 0 runs 70% of the time and 1 run 30% of the time. Assume the starting pitcher will throw 165 innings and the relief pitcher will throw 50 innings in a season. What are the odds that the starting pitcher gives up less runs on a per-inning basis than the relief pitcher?"
   ]
  },
  {
   "cell_type": "markdown",
   "id": "13606b9a",
   "metadata": {},
   "source": [
    "We can divide this problem up by determining the likelihood of the starter giving up a particular amount of runs in their time pitching by using the binomial distribution. The likelihood of a starter giving up *n* runs is equal to $\\frac{165!}{n!(165-n)!}p^{n}(1-p)^{165-n}$ where $p = 0.6$. Similarly, the likelihood of a reliever giving up *m* runs is equal to $\\frac{50!}{m!(50-m)!}p^{m}(1-p)^{50-m}$ where $p = 0.7$. \n",
    "\n",
    "Here we are looking for values of *n* that make the starter's expression greater than the reliever's expression at a given value of *m*. In other words, we are looking for $\\sum_{S}\\sum_{R}P(S=s|S<r) = \\sum_{S}\\sum_{R}P(S=s)P(R=r|S<r)$, where s is the number of runs per inning the starter gives up and r is the number of runs per inning the reliever gives up. The equality is valid because the runs given up by the reliever and starter are independent of each other."
   ]
  },
  {
   "cell_type": "code",
   "execution_count": 6,
   "id": "c16b3e65",
   "metadata": {},
   "outputs": [],
   "source": [
    "from math import factorial\n",
    "# Define the probabilities of the number of runs given up in the number of innings pitched by each player\n",
    "starter = [factorial(165)/(factorial(n)*factorial(165-n))*0.6**n*(1-0.6)**(165-n) for n in range(166)]\n",
    "reliever = [factorial(50)/(factorial(m)*factorial(50-m))*0.7**m*(1-0.7)**(50-m) for m in range(51)]\n",
    "\n",
    "starter_rpi = [x/165 for x in range(166)]\n",
    "reliever_rpi = [x/50 for x in range(51)]"
   ]
  },
  {
   "cell_type": "code",
   "execution_count": 15,
   "id": "c8afc63c",
   "metadata": {},
   "outputs": [
    {
     "name": "stdout",
     "output_type": "stream",
     "text": [
      "0.9049541443224393\n"
     ]
    }
   ],
   "source": [
    "p_starter = 0\n",
    "\n",
    "for ii in range(166):\n",
    "    for jj in range(51):\n",
    "        if starter_rpi[ii] < reliever_rpi[jj]:\n",
    "            p_starter += starter[ii]*reliever[jj]\n",
    "            \n",
    "print(p_starter)"
   ]
  },
  {
   "cell_type": "markdown",
   "id": "f877eb66",
   "metadata": {},
   "source": [
    "The odds appear to be **0.905**."
   ]
  },
  {
   "cell_type": "markdown",
   "id": "732a4ce4",
   "metadata": {},
   "source": [
    "### 2. A pitcher throws 60% of his fastballs in the strike zone. Given that a pitch is in the strike zone, the home plate umpire is known to call a strike 75% of the time, and given a pitch out of the strike zone he is known to call a ball 65% of the time. A fastball from this pitcher in a game with the umpire behind the plate is called a ball. What is the probability that that pitch was in the strike zone?"
   ]
  },
  {
   "cell_type": "markdown",
   "id": "234cb26d",
   "metadata": {},
   "source": [
    "Let's start by documenting all the information we were given in the question:\n",
    "- $P(\\text{Fastball In-Zone}) = 0.6$, which means\n",
    "- $P(\\text{Fastball Out-Zone}) = 0.4$\n",
    "- $P(\\text{Strike|In-Zone}) = 0.75$, which means\n",
    "- $P(\\text{Ball|In-Zone}) = 0.25$\n",
    "- $P(\\text{Ball|Out-Zone}) = 0.65$, which means\n",
    "- $P(\\text{Strike|Out-Zone}) = 0.35$\n",
    "\n",
    "So there is a 60% chance with no other information the fastball was in the strike zone and a 40% chance the fastball was out of the strike zone. Given the pitch was called a ball, there is a 25% chance it was in the zone and a 65% chance it was out of the zone. The probability the pitch was in the strike zone is therefore $0.6*0.25 = 15\\%$."
   ]
  },
  {
   "cell_type": "markdown",
   "id": "0998704e",
   "metadata": {},
   "source": [
    "### 3. A linear regression model with a normal error term is fit to predict ERA as a function of K% (strikeouts per plate appearance) and BB% (walks per plate appearance) for pitchers.\n",
    "#### The estimated coefficients on the linear model are as follows:\n",
    "#### Intercept: 5.81\n",
    "#### Slope on K%: -11.7\n",
    "#### Slope on BB%: 11.4\n",
    "#### Residual standard error/standard deviation of error on estimates: 1.31"
   ]
  },
  {
   "cell_type": "markdown",
   "id": "f3666bd5",
   "metadata": {},
   "source": [
    "### a) What is the probability that a pitcher with a K% of 0.20 and a BB% of 0.10 outperforms a pitcher with a K% of 0.25 and a BB% of 0.20 under this model?"
   ]
  },
  {
   "cell_type": "markdown",
   "id": "0e31b755",
   "metadata": {},
   "source": [
    "The estimated ERA of the first pitcher is $5.81 - 11.70 \\cdot 0.20 + 11.40 \\cdot 0.10 = 4.61$. The estimated ERA of the second pitcher is $5.81 - 11.70 \\cdot 0.25 + 11.40 \\cdot 0.20 = 5.165$. $P(P_1 < P_2) = P(P_1 - P_2 < 0)$. Now since $P_1$ and $P_2$ are normally distributed, $P_1 - P_2$ is also normally distributed with mean $-0.555$ and standard deviation $\\sqrt{3.4322} = 1.853$. The probability that $P_1$ outperforms $P_2$ is therefore $\\Phi(\\frac{0.555}{1.853}) = 61.7\\%$"
   ]
  },
  {
   "cell_type": "markdown",
   "id": "148efe18",
   "metadata": {},
   "source": [
    "### b) If Hit by Pitches per PA were to be added to this model, would you expect the coefficient on BB% to be greater or lower in magnitude? Why?"
   ]
  },
  {
   "cell_type": "markdown",
   "id": "60549ed1",
   "metadata": {},
   "source": [
    "If hit by pitches per PA were added to this model I would expect the coefficient of BB% to be lower in magnitude. The reason for this is HBP would explain some of the negative ERA currently contained in the BB% coefficient. It would therefore lower the magnitude of the BB% coefficient."
   ]
  },
  {
   "cell_type": "markdown",
   "id": "4c44dba9",
   "metadata": {},
   "source": [
    "### On the same data set, a logistic regression model is fit with the dependent variable being 1 if ERA is less than 4.00 and 0 if ERA is greater than 4.00.\n",
    "#### The estimated coefficients on the logistic regression model are as follows:\n",
    "#### Intercept: -2.18\n",
    "#### K%: 15.9 \n",
    "#### BB%: -16.1\n",
    "### Is the marginal effect of K% on the probability of having an ERA < 4.00 larger for someone with a K% of 0.20 and BB% of 0.10 or a pitcher with a K% of 0.25 and BB% of 0.20?"
   ]
  },
  {
   "cell_type": "markdown",
   "id": "382dcfc3",
   "metadata": {},
   "source": [
    "It is larger because you hold BB% constant and in this case the BB% is 0.10 compared to 0.20. The marginal impact of increasing K% by any% is therefore more significant for the first pitcher."
   ]
  },
  {
   "cell_type": "markdown",
   "id": "faba01d8",
   "metadata": {},
   "source": [
    "### d) If forced to choose between these linear or logistic models based on K% and BB%, which would you prefer to use to determine the quality of a pitcher from only their K% and BB%? Why?"
   ]
  },
  {
   "cell_type": "markdown",
   "id": "5a6fae62",
   "metadata": {},
   "source": [
    "I would prefer to use the linear model based on K% and BB%. The reason is it outputs a specific ERA value per pitcher that you can easily use to compare a spectrum of pitchers. If you use the logistic model, you are only going to find out whether or not a pitcher is predicted to have an ERA of less than 4.00 which is less valuable when comparing a wide range of pitchers, at least in my opinion."
   ]
  },
  {
   "cell_type": "markdown",
   "id": "e06b8255",
   "metadata": {},
   "source": [
    "### 4. Entering the day of September 26, 2022 the New York Mets had a record of 97-57 and the Atlanta Braves were 95-58. In their remaining games, the Mets and Braves were set to play each other in a 3-game series, plus each had 2 other series against other opponents. To that point in the season the Mets’ record against the Braves was 9-7, and if the two teams tied in overall record at the end of the season, whichever team won the season series against each other would win the division. Assume that the Mets’ odds of winning each of their remaining games was 50%. Assume that the Braves’ odds of winning each game against the Mets was 50% and p against all non-Mets opponents. For what value of p would give the Braves a 50% chance of winning the division?"
   ]
  },
  {
   "cell_type": "markdown",
   "id": "826034fe",
   "metadata": {},
   "source": [
    "As someone who grew up a Mets' fan this was a rough question to answer since I know how things turned out... The Mets' expected win total in this scenario is $97 + 9 \\cdot 0.5 = 101.5$. The Braves' expected win total in this scenario is $97 + 3 \\cdot 0.5 + 6 \\cdot p = 99.5 + 6 \\cdot p$. My plan of attack for this problem may be cumbersome but I intend to come up with a range of outcomes that would result in the Braves winning the division and use that to determine the probability for $p$. In order for the Braves to win the division either of two scenarios must occur: \n",
    "\n",
    "1. They must sweep the Mets and finish with the same number of wins as the Mets\n",
    "2. They must win more games than the Mets\n",
    "\n",
    "Starting with the first, the probability that the Braves sweep the Mets is equal to $0.5^3 = 0.125$. This would bring the Braves' record to 100-57 and the Mets' record to 97-60 with the season series 10-9 Braves (thus giving the Braves the tiebreaker). There are now a series of scenarios that outline the cumulative probability of each team winning a certain amount of games. \n",
    "\n",
    "The Mets are equally likely to win and lose the remaining 6 games on their schedule. The maximum amount of wins they could have after being swept is 103 and the minimum amount of wins they could have after being swept is 97. The Braves could finish with 100 wins with probability $\\frac{6!}{0! \\cdot 6!}(1-p)^6$, 101 wins with probability $\\frac{6!}{1!\\cdot 5!}p\\cdot (1-p)^5$, 102 wins with probability $\\frac{6!}{2!\\cdot 4!}p^2\\cdot (1-p)^4$, and 103 wins with probability $\\frac{6!}{3! \\cdot 3!}p^3\\cdot (1-p)^3$. They would win the division in all of these scenarios. They would also win the division in the case the Mets were swept and lost at least 4 of their last 6 games. \n",
    "\n",
    "With a sweep, the Braves would also win the division if they won more games than the Mets. This would happen if they won 4 or more games. \n",
    "\n",
    "If the Braves did not sweep the Mets they could still win the division by winning more games than them. \n",
    "\n",
    "I feel like I am on the right track but am running out of time due to some school projects I have had to work on. Instead of just throwing a random guess for $p$ out there I would rather be up front, say that, and move onto the next problem."
   ]
  },
  {
   "cell_type": "markdown",
   "id": "f4f74c1a",
   "metadata": {},
   "source": [
    "### 5. Assume that a newly drafted player has WAR/S projections (WAR/S defined as Wins Above Replacement per Season, where the scale of a Season is defined as 600 Plate Appearances) in each of his first 12 professional seasons distributed according to a normal distribution with mean and standard deviation parameters provided below. Assume that in each season his expected MLB-level playing time is a calculated as a function of his projection, weighted by the probability of the given projection according to the stated probability distribution. For a given WAR/S projection, p, the playing time function is: \n",
    "\n",
    "#### (GIVEN)\n",
    "\n",
    "### What is this player’s total expected MLB-level playing time over the 7-year period where the projected cumulative playing time is at a maximum?"
   ]
  },
  {
   "cell_type": "code",
   "execution_count": 20,
   "id": "763d4e0e",
   "metadata": {},
   "outputs": [
    {
     "name": "stdout",
     "output_type": "stream",
     "text": [
      "5010.0\n"
     ]
    }
   ],
   "source": [
    "import numpy as np\n",
    "war_projection = np.array([0.8,1.4,1.5,1.4,1.2,0.9,9.5])\n",
    "\n",
    "print(sum(600*war_projection/2))"
   ]
  },
  {
   "cell_type": "markdown",
   "id": "4f8f54a8",
   "metadata": {},
   "source": [
    "### 6. Given the following information, describe how you would construct a model to predict the likelihood of a flyball out on a flyball to the outfield:\n",
    "#### Identities of all players on field (fielders, pitcher, batter, runners), game state (number of outs, runners on base, inning, score), temperature, crowd size, batted ball launch characteristics (exit velocity, launch angle, spray angle, hang time), outfielder fielding percentage, stadium characteristics (fence distance and height), day/night game, pitcher/batter historical matchup results, initial fielder positioning data.\n",
    "#### Note: There is no need to find data and generate an actual model. Please just describe how you would proceed assuming you had the data listed. Please limit your response to 300 words."
   ]
  },
  {
   "cell_type": "markdown",
   "id": "ac3846a6",
   "metadata": {},
   "source": [
    "The values I would start by using would be air temperature (since it affects ball flight), batted ball launch characteristics (exit velocity, launch angle, spray angle, hang time), outfielder fielding percentage, stadium characteristics (fence distance and height), initial fielder positioning data. All of this information is relevant to the result of a flyball and would have some level of predictive power in determining whether or not a fly ball was generated and then caught. I would then use a correlation matrix to determine what values are highly correlated with each other and use that further down select to variables of interest. My expectation is you would be able to actually build a model that determines where the ball lands based solely on launch characteristics, temperature, and stadium characteristics and then feed in outfielder fielding percentage and initial outfielder placement to determine if it was an out. That's a brief description of where how I would start to create this model."
   ]
  },
  {
   "cell_type": "markdown",
   "id": "f0d7581a",
   "metadata": {},
   "source": [
    "### 7.The Brewers are considering signing one of two different infielders to 4-year guaranteed contracts with WAR/S projections and salaries in the following table:\n",
    "\n",
    "#### (GIVEN)\n",
    "\n",
    "### Assuming you had to pick one of these two deals, which player would you recommend the Brewers sign. Note: there are no forfeited draft picks or any other compensation required for the contracts. Please explain your process and any assumptions you make. Please limit your answer to 300 words."
   ]
  },
  {
   "cell_type": "markdown",
   "id": "78d3251b",
   "metadata": {},
   "source": [
    "I would sign Player A. While his ceiling isn't as high as Player B, who generates a maximum 3.0 WAR/S in the first year of his contract, his overall WAR/Dollar ratio is substantially higher (actually a tenfold increase from 1.95 to 0.195. He also costs a total of 19 million dollars less than Player B and is more consistent in his performance. Now, if the Brewers were intending to make a push for the World Series in 2023, Player B may make more sense but assuming you are looking for a consistent infielder, Player A is the move I would make."
   ]
  },
  {
   "cell_type": "markdown",
   "id": "87d70fa9",
   "metadata": {},
   "source": [
    "### 8. In 2022, two minor leagues used an automated ball-strike (ABS) challenge system, in which the umpire calls balls and strikes, but the pitcher, catcher, and batter may challenge the call. Each team is allocated three challenges per game with successful challenges retained. If this system were to be implemented in the majors in 2024, how should teams adjust their team building and gameplay strategies to prepare? Please limit your answer to 300 words."
   ]
  },
  {
   "cell_type": "markdown",
   "id": "c0aa3fc3",
   "metadata": {},
   "source": [
    "I think the most important adjustment teams can make in light of these changes would be in pitcher evaluation. Instead of using called balls and strikes to evaluate pitchers you would be more inclined to use the actual PitchFx, X, Y, and Z locations of the pitchers. The reason for this is that pitchers will have to throw \"actual\" strikes instead of just called strikes. This would also put less of an emphasis on pitch framing by catchers which has been quite important for years. There would also be strategy around when you use your challenges because you may want to save them for high leverage situations but at the same time wouldn't want to not use them if the opportunity to get a count in your favor arises. "
   ]
  }
 ],
 "metadata": {
  "kernelspec": {
   "display_name": "Python 3 (ipykernel)",
   "language": "python",
   "name": "python3"
  },
  "language_info": {
   "codemirror_mode": {
    "name": "ipython",
    "version": 3
   },
   "file_extension": ".py",
   "mimetype": "text/x-python",
   "name": "python",
   "nbconvert_exporter": "python",
   "pygments_lexer": "ipython3",
   "version": "3.9.12"
  }
 },
 "nbformat": 4,
 "nbformat_minor": 5
}
